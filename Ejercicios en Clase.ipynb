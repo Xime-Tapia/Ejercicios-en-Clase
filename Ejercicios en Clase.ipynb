{
 "cells": [
  {
   "cell_type": "markdown",
   "metadata": {},
   "source": [
    "FUNCION PRINT\n"
   ]
  },
  {
   "cell_type": "code",
   "execution_count": null,
   "metadata": {},
   "outputs": [],
   "source": [
    "print (\"HELLO WORLD\")"
   ]
  },
  {
   "cell_type": "markdown",
   "metadata": {},
   "source": [
    "TIPO DE DATOS, FUNCION TYPE"
   ]
  },
  {
   "cell_type": "code",
   "execution_count": null,
   "metadata": {},
   "outputs": [],
   "source": [
    "type (98)"
   ]
  },
  {
   "cell_type": "code",
   "execution_count": null,
   "metadata": {},
   "outputs": [],
   "source": [
    "type (\"hola\")"
   ]
  },
  {
   "cell_type": "code",
   "execution_count": null,
   "metadata": {},
   "outputs": [],
   "source": [
    "type (True)"
   ]
  },
  {
   "cell_type": "code",
   "execution_count": null,
   "metadata": {},
   "outputs": [],
   "source": [
    "type (98.2)"
   ]
  },
  {
   "cell_type": "markdown",
   "metadata": {},
   "source": [
    "OPERADORES PARA COMPARACIONES BOOLEANAS"
   ]
  },
  {
   "cell_type": "code",
   "execution_count": null,
   "metadata": {},
   "outputs": [],
   "source": [
    "1<2\n"
   ]
  },
  {
   "cell_type": "code",
   "execution_count": null,
   "metadata": {},
   "outputs": [],
   "source": [
    "1>2"
   ]
  },
  {
   "cell_type": "code",
   "execution_count": null,
   "metadata": {},
   "outputs": [],
   "source": [
    "1==1"
   ]
  },
  {
   "cell_type": "code",
   "execution_count": null,
   "metadata": {},
   "outputs": [],
   "source": [
    "1!=2"
   ]
  },
  {
   "cell_type": "code",
   "execution_count": null,
   "metadata": {},
   "outputs": [],
   "source": [
    "1>=1"
   ]
  },
  {
   "cell_type": "markdown",
   "metadata": {},
   "source": [
    "CREANDO Y CONCATENANDO MULTIPLES VARIABLES, se debe concatenar tipos de datos identicos y si son diferentes se debe hacer conversión"
   ]
  },
  {
   "cell_type": "code",
   "execution_count": null,
   "metadata": {},
   "outputs": [],
   "source": [
    "str1=\"Cisco\"\n",
    "str2=\"Networking\"\n",
    "str3=\"Academy\"\n",
    "space=\" \"\n",
    "print (str1+space+str2+space+str3)"
   ]
  },
  {
   "cell_type": "code",
   "execution_count": null,
   "metadata": {},
   "outputs": [],
   "source": [
    "print (str1+str2+str3)"
   ]
  },
  {
   "cell_type": "code",
   "execution_count": null,
   "metadata": {},
   "outputs": [],
   "source": [
    "print (str1,str2,str3)"
   ]
  },
  {
   "cell_type": "markdown",
   "metadata": {},
   "source": [
    "CONVERSIONES TIPOS DE DATOS"
   ]
  },
  {
   "cell_type": "code",
   "execution_count": null,
   "metadata": {},
   "outputs": [],
   "source": [
    "x=3\n",
    "type (x)"
   ]
  },
  {
   "cell_type": "code",
   "execution_count": null,
   "metadata": {},
   "outputs": [],
   "source": [
    "print (\"this value of X is \" + str(x))"
   ]
  },
  {
   "cell_type": "code",
   "execution_count": null,
   "metadata": {},
   "outputs": [],
   "source": [
    "x=str (x)\n",
    "type (x)"
   ]
  },
  {
   "cell_type": "code",
   "execution_count": null,
   "metadata": {},
   "outputs": [],
   "source": [
    "pi=22/7\n",
    "print(pi)"
   ]
  },
  {
   "cell_type": "code",
   "execution_count": null,
   "metadata": {},
   "outputs": [],
   "source": [
    "print(\"{:.2f}\".format(pi))"
   ]
  },
  {
   "cell_type": "markdown",
   "metadata": {},
   "source": [
    "LISTAS: \n",
    "Permiten cambiar sus valores, es mutable\n",
    "Una lista es un conjunto ordenado de valores, se declara en [  ], existen listas con varios tipos"
   ]
  },
  {
   "cell_type": "code",
   "execution_count": null,
   "metadata": {},
   "outputs": [],
   "source": [
    "prueba= [2,2.5,\"True\", \"Si\"]\n",
    "type (prueba)"
   ]
  },
  {
   "cell_type": "code",
   "execution_count": null,
   "metadata": {},
   "outputs": [],
   "source": [
    "hostnames=[\"R1\",\"R2\",\"R3\",\"S1\",\"S2\"]\n",
    "type (hostnames)"
   ]
  },
  {
   "cell_type": "code",
   "execution_count": null,
   "metadata": {},
   "outputs": [],
   "source": [
    "len (hostnames)"
   ]
  },
  {
   "cell_type": "code",
   "execution_count": null,
   "metadata": {},
   "outputs": [],
   "source": [
    "hostnames[0]"
   ]
  },
  {
   "cell_type": "code",
   "execution_count": null,
   "metadata": {},
   "outputs": [],
   "source": [
    "hostnames[1]"
   ]
  },
  {
   "cell_type": "code",
   "execution_count": null,
   "metadata": {},
   "outputs": [],
   "source": [
    "hostnames[-1]"
   ]
  },
  {
   "cell_type": "code",
   "execution_count": null,
   "metadata": {},
   "outputs": [],
   "source": [
    "hostnames[2]"
   ]
  },
  {
   "cell_type": "code",
   "execution_count": null,
   "metadata": {},
   "outputs": [],
   "source": [
    "hostnames[3]"
   ]
  },
  {
   "cell_type": "code",
   "execution_count": null,
   "metadata": {},
   "outputs": [],
   "source": [
    "hostnames[4]"
   ]
  },
  {
   "cell_type": "code",
   "execution_count": null,
   "metadata": {},
   "outputs": [],
   "source": [
    "hostnames[-4]"
   ]
  },
  {
   "cell_type": "code",
   "execution_count": null,
   "metadata": {},
   "outputs": [],
   "source": [
    "hostnames[0]=\"RTR1\"\n",
    "hostnames"
   ]
  },
  {
   "cell_type": "code",
   "execution_count": null,
   "metadata": {},
   "outputs": [],
   "source": [
    "hostnames [3]= \"STR1\"\n",
    "hostnames"
   ]
  },
  {
   "cell_type": "code",
   "execution_count": null,
   "metadata": {},
   "outputs": [],
   "source": [
    "del hostnames [3]\n",
    "hostnames"
   ]
  },
  {
   "cell_type": "markdown",
   "metadata": {},
   "source": [
    "DICCIONARIOS:\n",
    "Contiene información que no es ordenada, generalmente tiene la variable y su asignación, se usa con { }"
   ]
  },
  {
   "cell_type": "code",
   "execution_count": null,
   "metadata": {},
   "outputs": [],
   "source": [
    "capitals = {\n",
    "    \"Brazil\": \"Brasilia\",\n",
    "    \"Russia\": \"Moscow\",\n",
    "    \"India\": \"New Delhi\",\n",
    "    \"China\": \"Beijing\",\n",
    "    \"South Africa\": [\n",
    "                        \"Pretoria\",\n",
    "                        \"Cape Town\",\n",
    "                        \"Bloemfontein\"\n",
    "                    ]\n",
    "           }\n",
    "print (capitals)"
   ]
  },
  {
   "cell_type": "markdown",
   "metadata": {},
   "source": [
    "FUNCION TYPE:"
   ]
  },
  {
   "cell_type": "code",
   "execution_count": null,
   "metadata": {},
   "outputs": [],
   "source": [
    "nombr = input(\"Cuál es su nombre? \")\n",
    "apellid= input (\"Cuál es su apellido? \")\n",
    "hobb= input (\"Cuál es su hobby favorito? \")\n",
    "eda = input (\"Cuál es su edad? \")\n",
    "espacio = \" \"\n",
    "print (\"Hola \" + nombr + espacio + apellid + \"\\n\" \n",
    "       + \"Le encanta \"+ espacio + hobb + \"\\n\" \n",
    "       +  \"y su edad es de:\" + espacio + eda + espacio + \"años\")"
   ]
  },
  {
   "cell_type": "markdown",
   "metadata": {},
   "source": [
    "CONDICIONALES:\n",
    "Los condicionales se define desde una pregunta, existen condicionales simples ( existe condicional si el V si no se cumple se sale), dobles (porque tiene condición para V y otro para F) y bucles\n",
    "Es necesario colocar TAB para que se conozca la condición"
   ]
  },
  {
   "cell_type": "code",
   "execution_count": null,
   "metadata": {},
   "outputs": [],
   "source": [
    "nativevlan=1000\n",
    "datavlan=8000\n",
    "if nativevlan == datavlan:\n",
    "    print(\"The native VLAN and the data VLAN are the same.\")\n",
    "else:\n",
    "    print(\"The native VLAN and the data VLAN are different.\")"
   ]
  },
  {
   "cell_type": "markdown",
   "metadata": {},
   "source": [
    "elif:\n",
    "es la posibilidad de anidar varios if sin tener que ejecutar varios espaciados"
   ]
  },
  {
   "cell_type": "code",
   "execution_count": null,
   "metadata": {},
   "outputs": [],
   "source": [
    "aclNum = int (input (\"What es the IPv4 ACL number?\"))\n",
    "if aclNum >= 1 and aclNum <= 99:\n",
    "    print (\"This is a standard IPv4 ACL.\")\n",
    "elif aclNum >= 100 and aclNum <= 199:\n",
    "    print (\"This is a extended IPv4 ACL.\")\n",
    "else:\n",
    "    print (\"This is not a estandard or extend IPv4 ACL.\")"
   ]
  },
  {
   "cell_type": "markdown",
   "metadata": {},
   "source": [
    "FOR:\n",
    "Nos ayuda hacer interacciones, pero es necesario conocer el número de repeticiones\n",
    "item es una variable arbitraria\n",
    "for tiene incluido variable minima, máxima y contador\n",
    "Python es sensitivo, es decir que reconoce si esta en mayúscula o minúscula\""
   ]
  },
  {
   "cell_type": "code",
   "execution_count": null,
   "metadata": {},
   "outputs": [],
   "source": [
    "devices = [\"R1\", \"R2\", \"R3\", \"S1\", \"S2\"]\n",
    "for item in devices:\n",
    "    print (item)"
   ]
  },
  {
   "cell_type": "code",
   "execution_count": null,
   "metadata": {},
   "outputs": [],
   "source": [
    "devices = [\"R1\", \"R2\", \"R3\", \"S1\", \"S2\"]\n",
    "for item in devices:\n",
    "    if \"R\" in item: \n",
    "        print (item)"
   ]
  },
  {
   "cell_type": "markdown",
   "metadata": {},
   "source": [
    "append () con esta se agrega a la lista el resultado de la consulta, permite que el resultado de la consulta vaya grabando en la nueva lista"
   ]
  },
  {
   "cell_type": "code",
   "execution_count": null,
   "metadata": {},
   "outputs": [],
   "source": [
    "switches =[]\n",
    "for item in devices:\n",
    "    if \"S\" in item:\n",
    "        switches.append (item)\n",
    "switches"
   ]
  },
  {
   "cell_type": "markdown",
   "metadata": {},
   "source": [
    "WHILE:\n",
    "Se usa cuando no se sabe las veces que se debe repetir el ciclo, esta no tiene contador y debe tener una condición Verdadera"
   ]
  },
  {
   "cell_type": "code",
   "execution_count": null,
   "metadata": {},
   "outputs": [],
   "source": [
    "x=input (\"Enter a number to count to: \") # trabajo 06\n",
    "x=int (x)\n",
    "y=1\n",
    "while y<=x:\n",
    "    print (y)\n",
    "    y=y+1"
   ]
  },
  {
   "cell_type": "code",
   "execution_count": null,
   "metadata": {},
   "outputs": [],
   "source": [
    "x=input (\"Enter a number to count to: \") # trabajo 06\n",
    "x=int (x)\n",
    "y=1\n",
    "while True:\n",
    "    print (y)\n",
    "    y=y+1\n",
    "    if y>x:\n",
    "        break  #rompe el bucle"
   ]
  },
  {
   "cell_type": "code",
   "execution_count": null,
   "metadata": {},
   "outputs": [],
   "source": [
    "while True:\n",
    "    x=input (\"Enter a number to count to: \") \n",
    "    if x== \"q\" or x== \"quit\":\n",
    "        break\n",
    "    x=int (x)\n",
    "    y=1\n",
    "    while True:\n",
    "        print (y)\n",
    "        y=y+1\n",
    "        if y>x:\n",
    "            break  #rompe el bucle"
   ]
  },
  {
   "cell_type": "code",
   "execution_count": null,
   "metadata": {},
   "outputs": [],
   "source": [
    "while True: \n",
    "    nombr = input(\"Cuál es su nombre? \")\n",
    "    apellid= input (\"Cuál es su apellido? \")\n",
    "    hobb= input (\"Cuál es su hobby favorito? \")\n",
    "    eda = int (input (\"Cuál es su edad? \"))\n",
    "    espacio = \" \"\n",
    "    while True:\n",
    "        if eda >=1 and eda <=10:\n",
    "            print (\"menor de edad\")\n",
    "            break\n",
    "        elif eda >=11 and eda <=17:\n",
    "            print (\"adolescente\")\n",
    "            break\n",
    "        else:\n",
    "            print (\"mayor de edad\")\n",
    "            break\n",
    "    break\n",
    "    "
   ]
  },
  {
   "cell_type": "markdown",
   "metadata": {},
   "source": [
    "FUNCIONES:\n",
    "ES UN BLOQUE DE CODIGO QUE REALIZA UNA TAREA ESPECIFICA CUANDO SE LLAMA A LA FUNCION\n",
    "LAS FUNCIONES SE LAS DEFINE CON def ():\n",
    "Las funciones vienen de python, modulos,codigo\n",
    "No debe entrar en conflicto entre función y variable\n"
   ]
  },
  {
   "cell_type": "code",
   "execution_count": null,
   "metadata": {},
   "outputs": [],
   "source": [
    "def message ():\n",
    "    print (\"Enter next value\")\n",
    "print (\"We start here\")\n",
    "message()\n",
    "print (\"The end is here\")"
   ]
  },
  {
   "cell_type": "markdown",
   "metadata": {},
   "source": [
    "FUNCIONES CON PARAMETROS: sus funciones pueden tener tantos parametros como necesite\n",
    "puede pasar información a las funciones mediante el uso de parámetros"
   ]
  },
  {
   "cell_type": "code",
   "execution_count": null,
   "metadata": {},
   "outputs": [],
   "source": [
    "def hi (name):\n",
    "    print (\"Hi,\", name)\n",
    "hi (\"Xime\")"
   ]
  },
  {
   "cell_type": "code",
   "execution_count": null,
   "metadata": {},
   "outputs": [],
   "source": [
    "def hiAll (name1, name2):\n",
    "    print (\"Hi,\", name1)\n",
    "    print (\"Hi,\", name2)\n",
    "hiAll (\"Hernan\", \"Xime\")"
   ]
  },
  {
   "cell_type": "code",
   "execution_count": null,
   "metadata": {},
   "outputs": [],
   "source": [
    "def address (street, city, postalcode):\n",
    "    print (\"Su dirección es: \", street, \"St., \", city, postalcode)\n",
    "s = input (\"Street: \")\n",
    "pc = input (\"Postal Code: \")\n",
    "c = input (\"City: \")\n",
    "\n",
    "address (s, pc,c)"
   ]
  },
  {
   "cell_type": "code",
   "execution_count": null,
   "metadata": {},
   "outputs": [],
   "source": [
    "def subtra (a,b):\n",
    "    print (a-b)\n",
    "subtra (5, 2)"
   ]
  },
  {
   "cell_type": "code",
   "execution_count": null,
   "metadata": {},
   "outputs": [],
   "source": [
    "subtra (2, 5)"
   ]
  },
  {
   "cell_type": "code",
   "execution_count": null,
   "metadata": {},
   "outputs": [],
   "source": [
    "def subtra (a,b):\n",
    "    print (a-b)\n",
    "subtra (a=5, b=2)"
   ]
  },
  {
   "cell_type": "code",
   "execution_count": null,
   "metadata": {},
   "outputs": [],
   "source": [
    "subtra (b=2,a=5)"
   ]
  },
  {
   "cell_type": "code",
   "execution_count": null,
   "metadata": {},
   "outputs": [],
   "source": [
    "def subtra (a,b):\n",
    "    print (a-b)\n",
    "subtra (5, b=2)"
   ]
  },
  {
   "cell_type": "code",
   "execution_count": null,
   "metadata": {},
   "outputs": [],
   "source": [
    "subtra (a=5, 2) # da error porque para Python debe estar definido el primer parametro y esto no funciona"
   ]
  },
  {
   "cell_type": "code",
   "execution_count": null,
   "metadata": {},
   "outputs": [],
   "source": [
    "def multiply (a,b):\n",
    "    return a * b\n",
    "print (multiply (3,4))"
   ]
  },
  {
   "cell_type": "code",
   "execution_count": null,
   "metadata": {},
   "outputs": [],
   "source": [
    "def multiply (a,b):\n",
    "    return                # no se asigna nada por eso el valor de respuesta es None\n",
    "print (multiply (3,4))"
   ]
  },
  {
   "cell_type": "code",
   "execution_count": null,
   "metadata": {},
   "outputs": [],
   "source": [
    "def wishes ():\n",
    "    print (\"My Wishes\")\n",
    "    return \"Happy Birthday\"\n",
    "wishes ()"
   ]
  },
  {
   "cell_type": "code",
   "execution_count": null,
   "metadata": {},
   "outputs": [],
   "source": [
    "def wishes ():\n",
    "    print (\"My Wishes\")\n",
    "    return \"Happy Birthday\"\n",
    "print(wishes ())"
   ]
  },
  {
   "cell_type": "code",
   "execution_count": null,
   "metadata": {},
   "outputs": [],
   "source": [
    "def hiEverybody (mylist):\n",
    "    for name in mylist:\n",
    "        print (\"Hi,\" ,name)\n",
    "hiEverybody ([\"Xime\", \"Her\", \"Josue\", \"Luis\"])"
   ]
  },
  {
   "cell_type": "code",
   "execution_count": null,
   "metadata": {},
   "outputs": [],
   "source": [
    "def createlist (n):\n",
    "    mylist = []\n",
    "    for i in range (n):\n",
    "        mylist.append (i)\n",
    "    return mylist\n",
    "print (createlist (10))"
   ]
  },
  {
   "cell_type": "markdown",
   "metadata": {},
   "source": [
    "# Función Lambda"
   ]
  },
  {
   "cell_type": "markdown",
   "metadata": {},
   "source": [
    "Se trata de crear funciones de manera rapida para prototipos ligeros, funciones express que no hay que definirla\n",
    "lambda argumentos: resultados\n",
    "f = lambda argumentos: resultados\n"
   ]
  },
  {
   "cell_type": "code",
   "execution_count": null,
   "metadata": {},
   "outputs": [],
   "source": [
    "n = int (input(\"Ingrese un número entero positivo: \")) #función para ver si un número es primo\n",
    "\n",
    "def isprime (num):\n",
    "    if num < 2:\n",
    "        return False\n",
    "\n",
    "    for i in range (2,num):\n",
    "        if num % i == 0:\n",
    "            return False\n",
    "    return True\n",
    "\n",
    "print (isprime(n))\n",
    "\n"
   ]
  },
  {
   "cell_type": "code",
   "execution_count": null,
   "metadata": {},
   "outputs": [],
   "source": [
    "def isprime (num):\n",
    "    if num < 2:\n",
    "        return False\n",
    "\n",
    "    for i in range (2,num):\n",
    "        if num % i == 0:\n",
    "            return False\n",
    "    return True\n",
    "\n",
    "for i in range (1, 50):  #definimos el rango de impresión hasta el 50\n",
    "    if isprime (i+1):\n",
    "        print (i+1, end=\" \")\n",
    "print ()\n",
    "    "
   ]
  },
  {
   "cell_type": "code",
   "execution_count": null,
   "metadata": {},
   "outputs": [],
   "source": [
    "def isPrime (num):\n",
    "  if num<2:\n",
    "    return False\n",
    "  for i in range(2,num):\n",
    "    if num % i==0:\n",
    "      return False\n",
    "  return True\n",
    "isPrime(10)"
   ]
  },
  {
   "cell_type": "code",
   "execution_count": null,
   "metadata": {},
   "outputs": [],
   "source": [
    "def isPrime (num):\n",
    "  if num<2:\n",
    "    return False\n",
    "  for i in range(2,num):\n",
    "    if num % i==0:\n",
    "      return False\n",
    "  return True\n",
    "isPrime(7)\n",
    "for i in range(1,50):\n",
    "  if isPrime(i+1):\n",
    "    print(i+1,end=\" \")\n",
    "print()"
   ]
  },
  {
   "cell_type": "code",
   "execution_count": null,
   "metadata": {},
   "outputs": [],
   "source": [
    "for i in range(4):\n",
    "    print (i+1)\n",
    "    "
   ]
  },
  {
   "cell_type": "code",
   "execution_count": null,
   "metadata": {},
   "outputs": [],
   "source": [
    "result = 0\n",
    "n = 6\n",
    "for i in range (1, n+1):\n",
    "    result += i\n",
    "print (result)"
   ]
  },
  {
   "cell_type": "code",
   "execution_count": null,
   "metadata": {},
   "outputs": [],
   "source": [
    "for i in range (10, 0 , -2):\n",
    "    print (i)"
   ]
  },
  {
   "cell_type": "code",
   "execution_count": null,
   "metadata": {},
   "outputs": [],
   "source": [
    "# Los años bisiestos son los divisibles entre 4 (como 2004, 2008, etc.)\n",
    "# excepto si es divisible entre 100, entonces no es bisiesto (como 2100, 2200, etc.)\n",
    "#xcepto si es divisible entre 400, entonces sí (como 2000, 2400)\n",
    "\n",
    "def bisiesto(x):\n",
    "  if x%4==0 and (not(x%100==0) or x%400==0 ):\n",
    "    texto='es año bisiesto.'\n",
    "  else:\n",
    "    texto='no es año bisiesto.'\n",
    "  return texto\n",
    "x=int(input('Introduzca un año entre 1600 y 2500:'))\n",
    "print(x,bisiesto(x))"
   ]
  },
  {
   "cell_type": "code",
   "execution_count": null,
   "metadata": {},
   "outputs": [],
   "source": [
    "def bisiesto(x): #REVISAR\n",
    "    if x%4==0 and (not(x%100==0) or (x%400==0)):\n",
    "        return True\n",
    "    else:\n",
    "        return False\n",
    "\n",
    "testData = [1900, 2000, 2016, 1987, 2001]\n",
    "testResults = [False, True, True, False]\n",
    "for i in range(len(testData)):\n",
    "    yr = testData[i]\n",
    "    print(yr,\"->\",end=\" \")\n",
    "    result = bisiesto(yr)\n",
    "    if result == testResults[i]:\n",
    "        print(\"OK\")\n",
    "    else:\n",
    "        print(\"Failed\")\n"
   ]
  },
  {
   "cell_type": "code",
   "execution_count": null,
   "metadata": {},
   "outputs": [],
   "source": [
    "def isyearleap (year):  \n",
    "        if year % 4 !=0:\n",
    "            return False\n",
    "        elif year % 100 !=0:\n",
    "            return True\n",
    "        elif year % 400 !=0:\n",
    "            return False\n",
    "        else:\n",
    "            return True\n",
    "print (isyearleap (2005))"
   ]
  },
  {
   "cell_type": "code",
   "execution_count": null,
   "metadata": {},
   "outputs": [],
   "source": [
    "def isyearleap (year):  \n",
    "        if year % 4 !=0:\n",
    "            return False\n",
    "        elif year % 100 !=0:\n",
    "            return True\n",
    "        elif year % 400 !=0:\n",
    "            return False\n",
    "        else:\n",
    "            return True\n",
    "\n",
    "def daysInMonth (year, month):\n",
    "    if year < 1500 or month < 1 or month > 12:\n",
    "        return None\n",
    "    days = [ 31,28,31,30,31,30,31,31,30,31,30,31]\n",
    "    res = days [month - 1]\n",
    "    if month == 2 and isyearleap (year):\n",
    "        res=29\n",
    "    return res\n",
    "\n",
    "\n",
    "testYears = [1900, 2000, 2016, 1987]\n",
    "testMonths = [2, 2, 1, 11]\n",
    "testResults = [28, 29, 31, 29]\n",
    "for i in range(len(testYears)):\n",
    "    yr = testYears[i]\n",
    "    mo = testMonths[i]\n",
    "    print(yr, mo, \"->\", end=\"\")\n",
    "    result = daysInMonth(yr, mo)\n",
    "    if result == testResults[i]:\n",
    "        print(\"OK\")\n",
    "    else:\n",
    "        print(\"Failed\")\n"
   ]
  },
  {
   "cell_type": "code",
   "execution_count": null,
   "metadata": {},
   "outputs": [],
   "source": [
    "def isyearleap (year):  \n",
    "        if year % 4 !=0:\n",
    "            return False\n",
    "        elif year % 100 !=0:\n",
    "            return True\n",
    "        elif year % 400 !=0:\n",
    "            return False\n",
    "        else:\n",
    "            return True\n",
    "\n",
    "def daysInMonth (year, month):\n",
    "    if year < 1500 or month < 1 or month > 12:\n",
    "        return None\n",
    "    days = [ 31,28,31,30,31,30,31,31,30,31,30,31]\n",
    "    res = days [month - 1]\n",
    "    if month == 2 and isyearleap (year):\n",
    "        res=29\n",
    "    return res\n",
    "\n",
    "def dayOfYear(year, month, day):\n",
    "    days = 0\n",
    "    for m in range(1, month):\n",
    "        md = daysInMonth(year, m)\n",
    "        if md == None:\n",
    "            return None\n",
    "        days += md\n",
    "    md = daysInMonth(year, month)\n",
    "    if day >= 1 and day <= md:\n",
    "        return days + day\n",
    "    else:\n",
    "        return None\n",
    "print(dayOfYear(2020, 12, 31))\n",
    "        "
   ]
  },
  {
   "cell_type": "markdown",
   "metadata": {},
   "source": [
    "# MODULOS"
   ]
  },
  {
   "cell_type": "markdown",
   "metadata": {},
   "source": [
    "Modulos son usados para tareas especificas y esta compuesta por varias funciones, un módulo le permite a usted organizar lógicamente su código Python.Un módulo es un objeto de Python con atributos con nombres arbitrarios que puede enlazar y hacer referencia. Simplemente, un módulo es no es otra cosa sino un archivo con extensión. Hay que referirse especificamente a los modulos que uno necesita. Escepciones es la forma que el programa nos ayuda a controlar errores que el usuario no controla"
   ]
  },
  {
   "cell_type": "code",
   "execution_count": null,
   "metadata": {},
   "outputs": [],
   "source": [
    "from turtle import *  #usando el modulo de turtle\n",
    "color('red', 'yellow')\n",
    "begin_fill()\n",
    "while True:\n",
    "    forward(200)\n",
    "    left(150)\n",
    "    if abs(pos()) < 1:\n",
    "        break\n",
    "end_fill()\n",
    "done()"
   ]
  },
  {
   "cell_type": "code",
   "execution_count": null,
   "metadata": {},
   "outputs": [],
   "source": [
    "# from module import * con esta manera se importa la totalidad del modulo\n",
    "from math import sin, pi      # importar modulos con funciones especificas\n",
    "print (sin (pi/2))"
   ]
  },
  {
   "cell_type": "code",
   "execution_count": null,
   "metadata": {},
   "outputs": [],
   "source": [
    "import math as m    #se puede impOrtar asignando un alias al modulo, se sue usuar cuando los nombres son muy largos\n",
    "print (m.sin(m.pi/2))"
   ]
  },
  {
   "cell_type": "markdown",
   "metadata": {},
   "source": [
    "PAQUETES:\n",
    "Debe tener __ini__.py es obligatorio y todos los modulos que se desee"
   ]
  },
  {
   "cell_type": "markdown",
   "metadata": {},
   "source": [
    "# MODULOS"
   ]
  },
  {
   "cell_type": "markdown",
   "metadata": {},
   "source": [
    "No todos los modulos estan instalados en Python, se trae con la clave IMPORT\n",
    "math.pi\n",
    "math.sin\n",
    "from math from pi\n",
    "from modulo"
   ]
  },
  {
   "cell_type": "markdown",
   "metadata": {},
   "source": [
    "# PAQUETES"
   ]
  },
  {
   "cell_type": "markdown",
   "metadata": {},
   "source": [
    "# MODULO PARA DATA SCIENCE - NumPy"
   ]
  },
  {
   "cell_type": "markdown",
   "metadata": {},
   "source": [
    "NUMpY: SIGNIFICA nUMEREICAL pYTHON ES UNA LIBRERIA PRINCIPAL para la informatica cientifica, proporciona potentes estructurales de datos, implemetados matrices y matrices multidimensionales. Permite calculos muy eficientes, con Anaconda ya viene instalado NumPy."
   ]
  },
  {
   "cell_type": "code",
   "execution_count": null,
   "metadata": {},
   "outputs": [],
   "source": [
    "import numpy as np\n",
    "a=np.array ([1,2,3])\n",
    "print (a)"
   ]
  },
  {
   "cell_type": "code",
   "execution_count": null,
   "metadata": {},
   "outputs": [],
   "source": [
    "b = np.array ([(1,2,3),(4,5,6)])\n",
    "print (b)"
   ]
  },
  {
   "cell_type": "code",
   "execution_count": null,
   "metadata": {},
   "outputs": [],
   "source": [
    "import numpy as np\n",
    "\n",
    "import time\n",
    "SIZE=1000000\n",
    "\n",
    "L1= range (SIZE)\n",
    "L2= range (SIZE)\n",
    "A1 = np.arange (SIZE)\n",
    "A2 = np.arange (SIZE)\n",
    "\n",
    "print (\"\\n\" *1)\n",
    "print (\"RESULTADO USANDO LISTAS/TUPLAS\")\n",
    "start = time.time()\n",
    "result = [(x,y) for x,y in zip (L1,L2)]\n",
    "print ((time.time () - start)*1000)\n",
    "\n",
    "print (\"\\n\" *1)\n",
    "print (\"RESULTADO USANDO NUMPY\")\n",
    "start = time.time()\n",
    "result = A1+A2\n",
    "print ((time.time () - start)*1000)\n"
   ]
  },
  {
   "cell_type": "code",
   "execution_count": null,
   "metadata": {},
   "outputs": [],
   "source": [
    "import numpy as np  \n",
    "import sys\n",
    "\n",
    "print (\"USO DE MEMORIA PYTHON\")\n",
    "S= range (1000)\n",
    "print (sys.getsizeof(5)*len(S))\n"
   ]
  },
  {
   "cell_type": "code",
   "execution_count": null,
   "metadata": {},
   "outputs": [],
   "source": [
    "#CREAR UNA MATRIZ DE UNOS\n",
    "unos = np.ones ((3,4))\n",
    "print (unos)\n",
    "\n",
    "print (\"\\n\" *1)\n",
    "#CREAR UNA MATRIZ DE CEROS\n",
    "ceros=np.zeros ((5,2))\n",
    "print (ceros)"
   ]
  },
  {
   "cell_type": "code",
   "execution_count": null,
   "metadata": {},
   "outputs": [],
   "source": [
    "#Crear una matriz con valores aleatroios\n",
    "aleatorios = np.random.random ((4,3))\n",
    "print (aleatorios)\n",
    "\n",
    "print (\"\\n\" *1)\n",
    "\n",
    "#Crear matriz vacía\n",
    "vacia =np.empty((3,2))\n",
    "print (vacia)"
   ]
  },
  {
   "cell_type": "code",
   "execution_count": null,
   "metadata": {},
   "outputs": [],
   "source": [
    "#crear una matriz con un solo valor\n",
    "full =np.full ((4,5),9)\n",
    "print (full)\n",
    "\n",
    "print (\"\\n\" *1)\n",
    "\n",
    "full1 =np.full ((3,4),\"xxx\")\n",
    "print (full1)"
   ]
  },
  {
   "cell_type": "code",
   "execution_count": null,
   "metadata": {},
   "outputs": [],
   "source": [
    "#Crear matriz con valores espaciados uniformemente\n",
    "import numpy as np\n",
    "espacio1 = np. arange (0,30,5)\n",
    "print (espacio1)\n",
    "\n",
    "print (\"\\n\" *1)\n",
    "\n",
    "#Crear matriz con valores espaciados \n",
    "espacio2 = np. linspace (0,2,5)\n",
    "print (espacio2)"
   ]
  },
  {
   "cell_type": "code",
   "execution_count": null,
   "metadata": {},
   "outputs": [],
   "source": [
    "#crear una matriz de identidad\n",
    "import numpy as np\n",
    "\n",
    "identidad1=np.eye (4,4)\n",
    "print (identidad1)\n",
    "\n",
    "print (\"\\n\" *1)\n",
    "\n",
    "identidad2= np.identity(4)\n",
    "print (identidad2)"
   ]
  },
  {
   "cell_type": "code",
   "execution_count": null,
   "metadata": {},
   "outputs": [],
   "source": [
    "#conocer dimensiones de una matriz\n",
    "a=np.array ([(1,2,3),(4,5,6)])\n",
    "print (a.ndim)"
   ]
  },
  {
   "cell_type": "code",
   "execution_count": null,
   "metadata": {},
   "outputs": [],
   "source": [
    "#conocer el tipo de los datos\n",
    "a=np.array ([(1,2,3)])\n",
    "print (a.dtype)"
   ]
  },
  {
   "cell_type": "code",
   "execution_count": null,
   "metadata": {},
   "outputs": [],
   "source": [
    "#conocer el tamaño y forma de la matriz\n",
    "a=np.array ([(1,2,3,4,5,6)])\n",
    "print (a.size)\n",
    "print (a.shape)"
   ]
  },
  {
   "cell_type": "code",
   "execution_count": null,
   "metadata": {},
   "outputs": [],
   "source": [
    "#cambio de forma de una matriz\n",
    "import numpy as np\n",
    "a=np.array ([(8,9,10),(11,12,13)])\n",
    "print (a)\n",
    "print (\"\\n\" *1)\n",
    "a=a.reshape(3,2)\n",
    "print (a)"
   ]
  },
  {
   "cell_type": "code",
   "execution_count": null,
   "metadata": {},
   "outputs": [],
   "source": [
    "import numpy as np\n",
    "a = np.array ([2,4,8])\n",
    "print (a.min())\n",
    "print (a.max())\n",
    "print (a.sum ())"
   ]
  },
  {
   "cell_type": "code",
   "execution_count": null,
   "metadata": {},
   "outputs": [],
   "source": [
    "import numpy as np\n",
    "x= np.array ([(1,2,3),(3,4,5)])\n",
    "y= np.array ([(1,2,3),(3,4,5)])\n",
    "print (x+y)\n",
    "print (\"\\n\")\n",
    "print (x-y)\n",
    "print (\"\\n\")\n",
    "print (x*y)\n",
    "print (\"\\n\")\n",
    "print (x/y)\n"
   ]
  },
  {
   "cell_type": "markdown",
   "metadata": {},
   "source": [
    "https://numpy.org/doc/ DOCUMENTACION PARA REVISAR\n"
   ]
  },
  {
   "cell_type": "markdown",
   "metadata": {},
   "source": [
    "# MODULO PARA DATA SCIENCE - PANDAS# "
   ]
  },
  {
   "cell_type": "markdown",
   "metadata": {},
   "source": [
    "Ofrece estructuras de datos poderosas, expresivasy flexibles que facilitan la manipulación.  Las estructuras más utilizadas se encuentran el DataFrame\n",
    "con Pandas:cargar, modelar, analizar, manipular, preparar\n",
    "los datos, indice y la columna se manejan en esto\n",
    "para instalar en core normal \"pip install pandas\"\n",
    "Si se usa Anaconda ya viene cargado todo esto\n",
    "import pandas como pd"
   ]
  },
  {
   "cell_type": "code",
   "execution_count": null,
   "metadata": {},
   "outputs": [],
   "source": [
    "import numpy as np\n",
    "import pandas as pd\n",
    "data = np.array ([['','Col1','Col2'], ['Fila1',11,22], ['Fila2',33,44]])\n",
    "print (pd.DataFrame(data=data[1:,1:],index =data [1:,0],columns =data [0,1:]))"
   ]
  },
  {
   "cell_type": "code",
   "execution_count": null,
   "metadata": {},
   "outputs": [],
   "source": [
    "import numpy as np\n",
    "import pandas as pd\n",
    "data = np.array([['','Col1','Col2'], ['Fila1',11,22], ['Fila2',33,44]])          \n",
    "print(pd.DataFrame(data = data[1:,1:], index = data[1:,0], columns = data[0,1:]))\n",
    "print(\"\\n\"*2)\n",
    "df = pd.DataFrame(np.array([[1, 2, 3], [4, 5, 6]]))\n",
    "print('DataFrame:')\n",
    "print(df)\n",
    "print('Forma del DataFrame:')\n",
    "print(df.shape)\n",
    "print()\n",
    "print('Altura del DataFrame:')\n",
    "print(len(df.index))\n",
    "print('Estadísticas del DataFrame:')\n",
    "print(df.describe())\n",
    "#Media de las columnas DataFrame\n",
    "print('Media de las columnas DataFrame:')\n",
    "print(df.mean())\n",
    "#Correlación del DataFrame\n",
    "print('Correlación del DataFrame:')\n",
    "print(df.corr())\n",
    "print('Conteo de datos del DataFrame:')\n",
    "print(df.count())\n",
    "#Valor más alto de cada columna del DataFrame\n",
    "print('Valor más alto de la columna del DataFrame:')\n",
    "print(df.max())\n",
    "#Valor mínimo de cada columna del DataFrame\n",
    "print('Valor mínimo de la columna del DataFrame:')\n",
    "print(df.min())\n",
    "#Mediana de cada columna del DataFrame\n",
    "print('Mediana de la columna del DataFrame:')\n",
    "print(df.median())\n",
    "#Desviación estándar de cada columna del DataFrame\n",
    "print('Desviación estándar de la columna del DataFrame:')\n",
    "print(df.std())\n",
    "\n",
    "#Seleccionar la primera columna del DataFrame\n",
    "print('Primera columna del DataFrame:')\n",
    "print(df[0])\n",
    "\n",
    "#Seleccionar dos columnas del DataFrame\n",
    "print('Dos columnas del DataFrame:')\n",
    "print(df[[0, 1]])\n",
    "#Seleccionar el valor de la primera fila y última columna del DataFrame\n",
    "print('Valor de la primera fila y última columna del DataFrame:')\n",
    "print(df.iloc[0][2])\n",
    "#Seleccionar los valores de la primera fila del DataFrame\n",
    "print('Valores de la primera fila del DataFrame:')\n",
    "print(df.loc[0])\n"
   ]
  },
  {
   "cell_type": "code",
   "execution_count": null,
   "metadata": {},
   "outputs": [],
   "source": [
    "import pandas as pd\n",
    "titulos = pd.read_csv ('data/titles.csv')\n",
    "print (titulos.head())\n",
    "print (\"\\n\" *2)\n",
    "elenco =pd.read_csv ('data/cast.csv',encoding ='utf-8')\n",
    "print (elenco.head(100))\n",
    "\n",
    "#cuantas pelculas estan listadas en data frame\n",
    "print (len(titulos))"
   ]
  },
  {
   "cell_type": "code",
   "execution_count": null,
   "metadata": {},
   "outputs": [],
   "source": [
    "# Cual fue la primer pelicula hecha titulada \"Romeo and Juliet\" ?\n",
    "import pandas as pd\n",
    "print(titulos[titulos.title == \"Romeo and Juliet\"].sort_values('year').head(1))"
   ]
  },
  {
   "cell_type": "code",
   "execution_count": null,
   "metadata": {},
   "outputs": [],
   "source": [
    "# Listar todas las peliculas que contengan la palabra \"Exorcist\"\n",
    "# ordenadas de la mas vieja a la mas reciente.\n",
    "print(titulos[titulos.title.str.contains(\"Exorcist\")].sort_values('year'))"
   ]
  },
  {
   "cell_type": "code",
   "execution_count": null,
   "metadata": {},
   "outputs": [],
   "source": [
    "# Cuantas peliculas fueron hechas en el año 1950?\n",
    "print(len( titulos[titulos.year == 1950] ))\n",
    "# Cuantas peliculas fueron hechas en el año 1970?\n",
    "print(len( titulos[titulos.year == 1970] ))\n",
    "\n",
    "print (\"\\n\" *1)\n",
    "# Cuantas peliculas fueron hechas de 1950 a 1959\n",
    "print(len( titulos[ (titulos.year >= 1950) & (titulos.year <= 1959) ] ))\n",
    "print(len( titulos[ titulos.year // 10 == 195] ))\n",
    "\n",
    "print (\"\\n\" *1)\n",
    "# En que años alguna pelicula llamada \"Batman\" se presento\n",
    "print(titulos[ titulos.title == \"Batman\"])\n",
    "\n",
    "print (\"\\n\" *1)\n",
    "#imprimir peliculas epor año\n",
    "print(titulos[ titulos.year == 1973].head(1))\n"
   ]
  },
  {
   "cell_type": "code",
   "execution_count": null,
   "metadata": {},
   "outputs": [],
   "source": [
    "# Cuantos roles o papeles hubo en la pelicula \"The Godfather\"\n",
    "print(len(titulos[ titulos.title == \"The Godfather\"]))"
   ]
  },
  {
   "cell_type": "code",
   "execution_count": null,
   "metadata": {},
   "outputs": [],
   "source": [
    "# Cuantos roles o papeles hubo en la pelicula \"The Godfather\" \"REVISAR PARA PRUEBA\"\n",
    "print(len( elenco[elenco.title == \"The Godfather\"] ))\n",
    "# Cuantos papeles en la pelicula \"The Godfather\" no estan clasificados en algun valor \"n\"\n",
    "c = elenco[elenco.title == \"The Godfather\"]\n",
    "c = c[c.n.isnull()]\n",
    "print(len( c ))\n",
    "# Cuantos papeles en la pelicula \"The Godfather\" si estuvieron clasificados con un valor \"n\"\n",
    "c = elenco[elenco.title == \"The Godfather\"]\n",
    "c = c[c.n.notnull()]\n",
    "print(len(c))\n",
    "# Mostrar el elenco completo de la pelicula \"2001: A Space Odyssey\"\n",
    "# ordenado por su clasificasión \"n\", ignorando los papeles que\n",
    "# no se les asigno ningun valor \"n\"\n",
    "c = elenco\n",
    "c = c[c.title == \"2001: A Space Odyssey\"]\n",
    "c = c[c.n.notnull()].sort_values('n')\n",
    "print(c)\n",
    "# Mostrar el elenco completo ordenado por la clasificacion \"n\"\n",
    "# de la pelicula \"Dracula\" de 1958\n",
    "c = elenco\n",
    "c = c[ (c.title == \"Dracula\") & (c.year == 1958) ]\n",
    "c = c.sort_values(\"n\")\n",
    "print (c)\n",
    "# Cuantos papeles fueron listados en la pelicula \"The Wizard of Oz\" de 1939\n",
    "c = elenco\n",
    "c = c[ (c.title == \"The Wizard of Oz\") & (c.year == 1939) ]\n",
    "print(len(c))\n",
    "# Cuantos papeles de \"Bruce Wayne\" han sido hechos en la historia\n",
    "# de las peliculas\n",
    "c = elenco\n",
    "c = c[c.character == \"Bruce Wayne\"]\n",
    "print(len(c))\n",
    "# Cuanta gente ah hecho el papel de \"Romeo\"\n",
    "c = elenco\n",
    "c = c[c.character == \"Romeo\"]\n",
    "print(len(c))\n",
    "# Cuantos papeles ah hecho \"Robert De Niro\" en su carrera\n",
    "c = elenco\n",
    "c = c[c.name == \"Robert De Niro\"]\n",
    "print(len(c))\n",
    "# Listado de papeles de soporte que tuvo el actor \"Charlton Heston\" en\n",
    "# la decada de los 50's, ordenado por año\n",
    "c = elenco\n",
    "c = c[c.name == \"Charlton Heston\"]\n",
    "c = c[c.n == 2]\n",
    "c = c[c.year // 10 == 195]\n",
    "c = c.sort_values('year')\n",
    "print (c)\n",
    "# Listado de papeles como protagonista que tuvo el actor \"Charlton Heston\" en\n",
    "# la decada de los 60's, ordenado por año de forma descendente\n",
    "c = elenco\n",
    "c = c[c.name == \"Charlton Heston\"]\n",
    "c = c[c.n == 1]\n",
    "c = c[c.year // 10 == 196]\n",
    "c = c.sort_values('year',ascending=False)\n",
    "print (c)\n",
    "# ¿Cuantos papeles para actores hubo en la decada de los 50's?\n",
    "c = elenco\n",
    "c = c[c.type == \"actor\"]\n",
    "c = c[c.year //10 == 195]\n",
    "print (len(c))\n",
    "# ¿Cuantos papeles para actrices hubo en la decada de los 50's ?\n",
    "c = elenco\n",
    "c = c[c.type == \"actress\"]\n",
    "c = c[c.year //10 == 195]\n",
    "print(len(c))\n",
    "# ¿Cuantos papeles protagonicos existen desde el principio de\n",
    "# la historia filmatografica hasta 1970 ?\n",
    "c = elenco\n",
    "c = c[c.n == 1]\n",
    "c = c[c.year <= 1970]\n",
    "print (len(c))"
   ]
  },
  {
   "cell_type": "code",
   "execution_count": null,
   "metadata": {},
   "outputs": [],
   "source": [
    "# Cuantos roles o papeles hubo en la pelicula \"The Godfather\"\n",
    "print(len( elenco[elenco.title == \"The Godfather\"] ))\n",
    "# Cuantos papeles en la pelicula \"The Godfather\" no estan clasificados en algun valor \"n\"\n",
    "c = elenco[elenco.title == \"The Godfather\"]\n",
    "c = c[c.n.isnull()]\n",
    "print(len( c ))"
   ]
  },
  {
   "cell_type": "code",
   "execution_count": null,
   "metadata": {},
   "outputs": [],
   "source": [
    "# Cuantos papeles en la pelicula \"The Godfather\" si estuvieron clasificados con un valor \"n\"\n",
    "c = elenco[elenco.title == \"The Godfather\"]\n",
    "c = c[c.n.notnull()]\n",
    "print(len(c))"
   ]
  },
  {
   "cell_type": "markdown",
   "metadata": {},
   "source": [
    "# API (Application Programming Interface (API))"
   ]
  },
  {
   "cell_type": "markdown",
   "metadata": {},
   "source": [
    "Lenguajes standar:\n",
    "JSON: JSON es el acrónimo para JavaScript Object Notation, y aunque su nombre lo diga, no es necesariamente parte de JavaScript, de hecho es un estándar basado en texto plano para el intercambio de información, por lo que se usa en muchos sistemas que requieren mostrar o enviar información para ser interpretada por otros .\n",
    "XML: Significa Extensible Markup Language (Lenguaje de Marcado Extensible) y es una especificación de W3C como lenguaje de marcado de propósito general. Esto significa que, a diferencia de otros lenguajes de marcado, XML no está predefinido, por lo que debes definir tus propias etiquetas.25\n"
   ]
  },
  {
   "cell_type": "markdown",
   "metadata": {},
   "source": [
    "Para usar API se necesita:\n",
    "1. API Server\n",
    "2. Resources\n",
    "3. Format\n",
    "4. Parameters\n"
   ]
  },
  {
   "cell_type": "markdown",
   "metadata": {},
   "source": [
    "Los resultados de la estructura pueden dar los resultados:\n",
    "400 error\n",
    "200 exitosa\n",
    "\n",
    "Antes de lanzar las API a producción\n"
   ]
  },
  {
   "cell_type": "markdown",
   "metadata": {},
   "source": [
    "# JASON CON PYTHON"
   ]
  },
  {
   "cell_type": "markdown",
   "metadata": {},
   "source": [
    "Hay buscar u obtener un token:\n",
    "https://developer.mapquest.com/\n",
    "para lo cual se debe instalar Postman y JSONView (mirar maual de instalación)\n",
    "crear cuenta en Mapquest (mirar maual de instalación)\n",
    "crear el script 08 e importar la libreria de las url que se encuetra grabada dentr de la carpeta API"
   ]
  },
  {
   "cell_type": "code",
   "execution_count": null,
   "metadata": {},
   "outputs": [],
   "source": [
    "import urllib.parse\n",
    "import requests\n",
    "\n",
    "main_api = \"https://www.mapquestapi.com/directions/v2/route?\"\n",
    "orig = \"Washington\"\n",
    "dest = \"Baltimaore\"\n",
    "key = \"wLSmxq3ROjpOUzQx2Q7jk7EEj58boKjh\"\n",
    "\n",
    "url = main_api + urllib.parse.urlencode({\"key\": key, \"from\":orig, \"to\":dest})\n",
    "\n",
    "json_data = requests.get(url).json()\n",
    "print(json_data)"
   ]
  },
  {
   "cell_type": "markdown",
   "metadata": {},
   "source": [
    "# HARDWARE - Raspberry"
   ]
  },
  {
   "cell_type": "markdown",
   "metadata": {},
   "source": [
    "Clases de Direccionamiento IP\n",
    "\n",
    "Redes Inlhalambricas:\n",
    "SSID: nombre de la red\n",
    "PSK : clave \n"
   ]
  },
  {
   "cell_type": "markdown",
   "metadata": {},
   "source": [
    "https://downloads.raspberrypi.org/raspbian_full_latest\n",
    "\n",
    "https://www.advanced-ip-scanner.com/download/Advanced_IP_Scanner_2.5.3850.exe: PARA REVISAR CUANTAS PERSONAS QUE ESTAN CONECTANDO\n",
    "\n",
    "https://www.balena.io/etcher/\n",
    "https://winscp.net/download/WinSCP-5.15.9-Setup.exe\n",
    "\n"
   ]
  },
  {
   "cell_type": "markdown",
   "metadata": {},
   "source": [
    "SD Card formatter\n",
    "https://www.sdcard.org/downloads/formatter/eula_windows/SDCardFormatterv5_WinEN.zip\n",
    "Hay que eliminar todas las memorias adicionales.  Hay que estar seguros de que no esten conectados los dispositivos externos.\n",
    "\n",
    "BALENA\n",
    "https://www.balena.io/etcher/\n",
    "hace que el sistema operativo se haga buteable\n",
    "\n",
    "Una vez formateada la raspberry se debe copiar el archivo wpa_supplicant.conf y copiar el archivo ssh, se copia denro del buteable de la sim"
   ]
  }
 ],
 "metadata": {
  "celltoolbar": "Raw Cell Format",
  "kernelspec": {
   "display_name": "Python 3",
   "language": "python",
   "name": "python3"
  },
  "language_info": {
   "codemirror_mode": {
    "name": "ipython",
    "version": 3
   },
   "file_extension": ".py",
   "mimetype": "text/x-python",
   "name": "python",
   "nbconvert_exporter": "python",
   "pygments_lexer": "ipython3",
   "version": "3.7.4"
  }
 },
 "nbformat": 4,
 "nbformat_minor": 2
}
